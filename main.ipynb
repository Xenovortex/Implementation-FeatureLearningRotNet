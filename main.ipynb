{
 "cells": [
  {
   "cell_type": "markdown",
   "metadata": {},
   "source": [
    "# Import Packages and Files"
   ]
  },
  {
   "cell_type": "code",
   "execution_count": 1,
   "metadata": {},
   "outputs": [],
   "source": [
    "import torch.nn as nn\n",
    "import dataloader as dl\n",
    "import RotNet as RN\n",
    "import trainer as tr"
   ]
  },
  {
   "cell_type": "markdown",
   "metadata": {},
   "source": [
    "# Load Dataset"
   ]
  },
  {
   "cell_type": "code",
   "execution_count": 2,
   "metadata": {},
   "outputs": [
    {
     "name": "stdout",
     "output_type": "stream",
     "text": [
      "Files already downloaded and verified\n",
      "Files already downloaded and verified\n"
     ]
    }
   ],
   "source": [
    "trainset, testset, classes = dl.load_cifar(\"./datasets\")"
   ]
  },
  {
   "cell_type": "code",
   "execution_count": 3,
   "metadata": {},
   "outputs": [],
   "source": [
    "trainloader, validloader, testloader = dl.make_dataloaders(trainset, testset, 8000, 128)"
   ]
  },
  {
   "cell_type": "markdown",
   "metadata": {},
   "source": [
    "# Train RotNet for Rotation Task"
   ]
  },
  {
   "cell_type": "code",
   "execution_count": 4,
   "metadata": {},
   "outputs": [],
   "source": [
    "# initialize network\n",
    "net = RN.RotNet(num_classes=4, num_conv_block=4, add_avg_pool=False)\n",
    "\n",
    "rot_classes = ['original', '90 rotation', '180 rotation', '270 rotation']\n",
    "criterion = nn.CrossEntropyLoss()"
   ]
  },
  {
   "cell_type": "code",
   "execution_count": 6,
   "metadata": {},
   "outputs": [
    {
     "name": "stdout",
     "output_type": "stream",
     "text": [
      "[1, 60] loss: 1.095\n",
      "[1, 120] loss: 0.939\n",
      "[1, 180] loss: 0.873\n",
      "[1, 240] loss: 0.810\n",
      "[1, 300] loss: 0.785\n",
      "Epoch: 1 -> Loss: 0.33627474308\n",
      "Epoch: 1 -> Validation Accuracy: 67.3875\n",
      "[2, 60] loss: 0.682\n",
      "[2, 120] loss: 0.621\n",
      "[2, 180] loss: 0.612\n",
      "[2, 240] loss: 0.612\n",
      "[2, 300] loss: 0.596\n",
      "Epoch: 2 -> Loss: 0.635553479195\n",
      "Epoch: 2 -> Validation Accuracy: 76.04375\n"
     ]
    }
   ],
   "source": [
    "# train network with own implemented metric\n",
    "rot_loss_log, rot_accuracy_log, rot_max_accuracy, rot_best_epoch = tr.adaptive_learning([0.1, 0.02, 0.004, 0.0008], \n",
    "    [60, 120, 160, 200], 0.9, 5e-4, net, trainloader, validloader, criterion, rot=['90', '180', '270'])"
   ]
  },
  {
   "cell_type": "code",
   "execution_count": null,
   "metadata": {},
   "outputs": [
    {
     "name": "stdout",
     "output_type": "stream",
     "text": [
      "[1, 60] loss: 1.094\n",
      "[1, 120] loss: 0.947\n",
      "[1, 180] loss: 0.856\n",
      "[1, 240] loss: 0.839\n",
      "[1, 300] loss: 0.794\n",
      "Epoch: 1 -> Loss: 0.92122232914\n",
      "Epoch: 1 -> Validation Accuracy: 68.4585813492\n",
      "[2, 60] loss: 0.777\n",
      "[2, 120] loss: 0.713\n",
      "[2, 180] loss: 0.677\n",
      "[2, 240] loss: 0.652\n",
      "[2, 300] loss: 0.664\n",
      "Epoch: 2 -> Loss: 0.476222127676\n",
      "Epoch: 2 -> Validation Accuracy: 75.1705109127\n",
      "[3, 60] loss: 0.536\n",
      "[3, 120] loss: 0.516\n"
     ]
    }
   ],
   "source": [
    "# train network with metric from paper\n",
    "rot_paper_loss_log, rot_paper_accuracy_log, rot_paper_max_accuracy, rot_paper_best_epoch = tr.adaptive_learning([0.1, 0.02, 0.004, 0.0008], [2, 3, 0, 0], 0.9, 5e-4, net, trainloader, validloader, criterion, rot=['90', '180', '270'], use_paper_metric=True)"
   ]
  },
  {
   "cell_type": "code",
   "execution_count": 6,
   "metadata": {},
   "outputs": [
    {
     "name": "stdout",
     "output_type": "stream",
     "text": [
      "4\n"
     ]
    }
   ],
   "source": [
    "a= 5\n",
    "a -= 1\n",
    "print(a)"
   ]
  },
  {
   "cell_type": "code",
   "execution_count": null,
   "metadata": {},
   "outputs": [],
   "source": []
  }
 ],
 "metadata": {
  "kernelspec": {
   "display_name": "Python 2",
   "language": "python",
   "name": "python2"
  },
  "language_info": {
   "codemirror_mode": {
    "name": "ipython",
    "version": 2
   },
   "file_extension": ".py",
   "mimetype": "text/x-python",
   "name": "python",
   "nbconvert_exporter": "python",
   "pygments_lexer": "ipython2",
   "version": "2.7.15"
  }
 },
 "nbformat": 4,
 "nbformat_minor": 2
}
