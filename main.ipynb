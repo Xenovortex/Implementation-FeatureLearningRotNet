{
 "cells": [
  {
   "cell_type": "markdown",
   "metadata": {},
   "source": [
    "# Import Packages and Files"
   ]
  },
  {
   "cell_type": "code",
   "execution_count": 1,
   "metadata": {},
   "outputs": [],
   "source": [
    "import torch.nn as nn\n",
    "import dataloader as dl\n",
    "import filemanager as fm\n",
    "import NonLinearClassifier as NLC\n",
    "import RotNet as RN\n",
    "import trainer as tr"
   ]
  },
  {
   "cell_type": "markdown",
   "metadata": {},
   "source": [
    "# Load Dataset"
   ]
  },
  {
   "cell_type": "code",
   "execution_count": 2,
   "metadata": {},
   "outputs": [
    {
     "name": "stdout",
     "output_type": "stream",
     "text": [
      "Files already downloaded and verified\n",
      "Files already downloaded and verified\n"
     ]
    }
   ],
   "source": [
    "trainset, testset, classes = dl.load_cifar(\"./datasets\")"
   ]
  },
  {
   "cell_type": "code",
   "execution_count": 3,
   "metadata": {},
   "outputs": [],
   "source": [
    "trainloader, validloader, testloader = dl.make_dataloaders(trainset, testset, 8000, 128)"
   ]
  },
  {
   "cell_type": "markdown",
   "metadata": {},
   "source": [
    "# Train RotNet for Rotation Task"
   ]
  },
  {
   "cell_type": "code",
   "execution_count": 4,
   "metadata": {},
   "outputs": [],
   "source": [
    "# initialize network\n",
    "net = RN.RotNet(num_classes=4, num_conv_block=4, add_avg_pool=False)\n",
    "\n",
    "rot_classes = ['original', '90 rotation', '180 rotation', '270 rotation']\n",
    "criterion = nn.CrossEntropyLoss()"
   ]
  },
  {
   "cell_type": "code",
   "execution_count": 7,
   "metadata": {},
   "outputs": [
    {
     "name": "stdout",
     "output_type": "stream",
     "text": [
      "[1, 60] loss: 0.584\n",
      "[1, 120] loss: 0.577\n",
      "[1, 180] loss: 0.573\n",
      "[1, 240] loss: 0.559\n",
      "[1, 300] loss: 0.550\n",
      "Epoch: 1 -> Loss: 0.640613377094\n",
      "Epoch: 1 -> Validation Accuracy: 77.703125\n",
      "[2, 60] loss: 0.431\n",
      "[2, 120] loss: 0.415\n",
      "[2, 180] loss: 0.406\n",
      "[2, 240] loss: 0.386\n",
      "[2, 300] loss: 0.409\n",
      "Epoch: 2 -> Loss: 0.282387077808\n",
      "Epoch: 2 -> Validation Accuracy: 84.1375\n"
     ]
    }
   ],
   "source": [
    "# train network with own implemented metric\n",
    "rot_loss_log, rot_accuracy_log, rot_max_accuracy, rot_best_epoch = tr.adaptive_learning([0.1, 0.02, 0.004, 0.0008], \n",
    "    [1, 2, 0, 0], 0.9, 5e-4, net, trainloader, validloader, criterion, rot=['90', '180', '270']) # [60, 120, 160, 200]"
   ]
  },
  {
   "cell_type": "code",
   "execution_count": 5,
   "metadata": {},
   "outputs": [
    {
     "name": "stdout",
     "output_type": "stream",
     "text": [
      "[1, 60] loss: 1.094\n",
      "[1, 120] loss: 0.947\n",
      "[1, 180] loss: 0.856\n",
      "[1, 240] loss: 0.839\n",
      "[1, 300] loss: 0.794\n",
      "Epoch: 1 -> Loss: 0.92122232914\n",
      "Epoch: 1 -> Validation Accuracy: 68.4585813492\n",
      "[2, 60] loss: 0.777\n",
      "[2, 120] loss: 0.713\n",
      "[2, 180] loss: 0.677\n",
      "[2, 240] loss: 0.652\n",
      "[2, 300] loss: 0.664\n",
      "Epoch: 2 -> Loss: 0.476222127676\n",
      "Epoch: 2 -> Validation Accuracy: 75.1705109127\n",
      "[3, 60] loss: 0.536\n",
      "[3, 120] loss: 0.516\n",
      "[3, 180] loss: 0.511\n",
      "[3, 240] loss: 0.476\n",
      "[3, 300] loss: 0.503\n",
      "Epoch: 3 -> Loss: 0.537952363491\n",
      "Epoch: 3 -> Validation Accuracy: 80.9151785714\n"
     ]
    }
   ],
   "source": [
    "# train network with metric from paper\n",
    "rot_paper_loss_log, rot_paper_accuracy_log, rot_paper_max_accuracy, rot_paper_best_epoch = tr.adaptive_learning([0.1, 0.02, 0.004, 0.0008], [2, 3, 0, 0], 0.9, 5e-4, net, trainloader, validloader, criterion, rot=['90', '180', '270'], use_paper_metric=True)"
   ]
  },
  {
   "cell_type": "markdown",
   "metadata": {},
   "source": [
    "# Save results for Rotation Task"
   ]
  },
  {
   "cell_type": "code",
   "execution_count": 10,
   "metadata": {},
   "outputs": [],
   "source": [
    "rot_result = [rot_loss_log, rot_accuracy_log, rot_max_accuracy, rot_best_epoch]\n",
    "paper_rot_result = [rot_paper_loss_log, rot_paper_accuracy_log, rot_paper_max_accuracy, rot_paper_best_epoch]\n",
    "\n",
    "fm.save_variable(rot_result, 'rotation')\n",
    "fm.save_variable(paper_rot_result, 'rotation_paper')"
   ]
  },
  {
   "cell_type": "markdown",
   "metadata": {},
   "source": [
    "# Load results from previous trained Rotation Task"
   ]
  },
  {
   "cell_type": "code",
   "execution_count": 11,
   "metadata": {},
   "outputs": [],
   "source": [
    "load = False\n",
    "\n",
    "if load:\n",
    "    rot_loss_log, rot_accuracy_log, rot_max_accuracy, rot_best_epoch = fm.load_variable('rotation')\n",
    "    rot_paper_loss_log, rot_paper_accuracy_log, rot_paper_max_accuracy, rot_paper_best_epoch = fm.load_variable(\n",
    "                                                                                                        'rotation_paper')"
   ]
  },
  {
   "cell_type": "markdown",
   "metadata": {},
   "source": [
    "# Train classifier on Conv Block 1"
   ]
  },
  {
   "cell_type": "code",
   "execution_count": 4,
   "metadata": {},
   "outputs": [],
   "source": [
    "# initialize classifier\n",
    "clf_1 = NLC.NonLinearClassifier(10, 96*16*16)"
   ]
  },
  {
   "cell_type": "code",
   "execution_count": null,
   "metadata": {},
   "outputs": [],
   "source": []
  }
 ],
 "metadata": {
  "kernelspec": {
   "display_name": "Python 2",
   "language": "python",
   "name": "python2"
  },
  "language_info": {
   "codemirror_mode": {
    "name": "ipython",
    "version": 2
   },
   "file_extension": ".py",
   "mimetype": "text/x-python",
   "name": "python",
   "nbconvert_exporter": "python",
   "pygments_lexer": "ipython2",
   "version": "2.7.15"
  }
 },
 "nbformat": 4,
 "nbformat_minor": 2
}
